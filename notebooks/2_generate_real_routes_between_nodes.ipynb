{
 "cells": [
  {
   "cell_type": "markdown",
   "metadata": {},
   "source": [
    "## Generate routes\n",
    "\n",
    "**Author**: Imad Saddik\n",
    "<br/>\n",
    "**Date**: 21/12/2024\n",
    "\n",
    "---"
   ]
  },
  {
   "cell_type": "markdown",
   "metadata": {},
   "source": [
    "**Table of contents**<a id='toc0_'></a>    \n",
    "- [Load nodes](#toc1_1_)    \n",
    "- [Route between 2 points](#toc1_2_)    \n",
    "  - [Project OSRM](#toc1_2_1_)    \n",
    "- [Save routes between all nodes](#toc1_3_)    "
   ]
  },
  {
   "cell_type": "markdown",
   "metadata": {},
   "source": [
    "---"
   ]
  },
  {
   "cell_type": "markdown",
   "metadata": {},
   "source": [
    "## <a id='toc1_1_'></a>[Load nodes](#toc0_)"
   ]
  },
  {
   "cell_type": "code",
   "execution_count": 1,
   "metadata": {},
   "outputs": [],
   "source": [
    "import psycopg2\n",
    "\n",
    "connection = psycopg2.connect(\n",
    "    dbname='routes',\n",
    "    user='postgres',\n",
    "    password='postgres',\n",
    "    host='localhost'\n",
    ")\n",
    "connection.autocommit = True\n",
    "cursor = connection.cursor()"
   ]
  },
  {
   "cell_type": "code",
   "execution_count": 2,
   "metadata": {},
   "outputs": [],
   "source": [
    "from pydantic import BaseModel\n",
    "\n",
    "\n",
    "class Node(BaseModel):\n",
    "    id: int\n",
    "    latitude: float\n",
    "    longitude: float\n",
    "    type_: str"
   ]
  },
  {
   "cell_type": "code",
   "execution_count": 3,
   "metadata": {},
   "outputs": [],
   "source": [
    "response = cursor.execute(\"\"\"\n",
    "SELECT * FROM nodes\n",
    "\"\"\")\n",
    "\n",
    "data = cursor.fetchall()\n",
    "nodes = [Node(id=row[0], latitude=row[1], longitude=row[2], type_=row[3])\n",
    "         for row in data]"
   ]
  },
  {
   "cell_type": "code",
   "execution_count": 4,
   "metadata": {},
   "outputs": [
    {
     "data": {
      "text/plain": [
       "(40, 500, 1)"
      ]
     },
     "execution_count": 4,
     "metadata": {},
     "output_type": "execute_result"
    }
   ],
   "source": [
    "bus_nodes = [node for node in nodes if node.type_ == 'bus']\n",
    "employee_nodes = [node for node in nodes if node.type_ == 'employee']\n",
    "company_nodes = [node for node in nodes if node.type_ == 'company']\n",
    "\n",
    "len(bus_nodes), len(employee_nodes), len(company_nodes)"
   ]
  },
  {
   "cell_type": "code",
   "execution_count": null,
   "metadata": {},
   "outputs": [],
   "source": [
    "bus_ids = [node.id for node in bus_nodes]\n",
    "employee_ids = [node.id for node in employee_nodes]\n",
    "company_ids = [node.id for node in company_nodes]"
   ]
  },
  {
   "cell_type": "markdown",
   "metadata": {},
   "source": [
    "## <a id='toc1_2_'></a>[Route between 2 points](#toc0_)"
   ]
  },
  {
   "cell_type": "markdown",
   "metadata": {},
   "source": [
    "### <a id='toc1_2_1_'></a>[Project OSRM](#toc0_)\n",
    "\n",
    "Cons : Rate limited (1RPM)\n",
    "Solution : Deploy it locally"
   ]
  },
  {
   "cell_type": "code",
   "execution_count": 6,
   "metadata": {},
   "outputs": [
    {
     "data": {
      "text/html": [
       "<div style=\"width:100%;\"><div style=\"position:relative;width:100%;height:0;padding-bottom:60%;\"><span style=\"color:#565656\">Make this Notebook Trusted to load map: File -> Trust Notebook</span><iframe srcdoc=\"&lt;!DOCTYPE html&gt;\n",
       "&lt;html&gt;\n",
       "&lt;head&gt;\n",
       "    \n",
       "    &lt;meta http-equiv=&quot;content-type&quot; content=&quot;text/html; charset=UTF-8&quot; /&gt;\n",
       "    \n",
       "        &lt;script&gt;\n",
       "            L_NO_TOUCH = false;\n",
       "            L_DISABLE_3D = false;\n",
       "        &lt;/script&gt;\n",
       "    \n",
       "    &lt;style&gt;html, body {width: 100%;height: 100%;margin: 0;padding: 0;}&lt;/style&gt;\n",
       "    &lt;style&gt;#map {position:absolute;top:0;bottom:0;right:0;left:0;}&lt;/style&gt;\n",
       "    &lt;script src=&quot;https://cdn.jsdelivr.net/npm/leaflet@1.9.3/dist/leaflet.js&quot;&gt;&lt;/script&gt;\n",
       "    &lt;script src=&quot;https://code.jquery.com/jquery-3.7.1.min.js&quot;&gt;&lt;/script&gt;\n",
       "    &lt;script src=&quot;https://cdn.jsdelivr.net/npm/bootstrap@5.2.2/dist/js/bootstrap.bundle.min.js&quot;&gt;&lt;/script&gt;\n",
       "    &lt;script src=&quot;https://cdnjs.cloudflare.com/ajax/libs/Leaflet.awesome-markers/2.0.2/leaflet.awesome-markers.js&quot;&gt;&lt;/script&gt;\n",
       "    &lt;link rel=&quot;stylesheet&quot; href=&quot;https://cdn.jsdelivr.net/npm/leaflet@1.9.3/dist/leaflet.css&quot;/&gt;\n",
       "    &lt;link rel=&quot;stylesheet&quot; href=&quot;https://cdn.jsdelivr.net/npm/bootstrap@5.2.2/dist/css/bootstrap.min.css&quot;/&gt;\n",
       "    &lt;link rel=&quot;stylesheet&quot; href=&quot;https://netdna.bootstrapcdn.com/bootstrap/3.0.0/css/bootstrap-glyphicons.css&quot;/&gt;\n",
       "    &lt;link rel=&quot;stylesheet&quot; href=&quot;https://cdn.jsdelivr.net/npm/@fortawesome/fontawesome-free@6.2.0/css/all.min.css&quot;/&gt;\n",
       "    &lt;link rel=&quot;stylesheet&quot; href=&quot;https://cdnjs.cloudflare.com/ajax/libs/Leaflet.awesome-markers/2.0.2/leaflet.awesome-markers.css&quot;/&gt;\n",
       "    &lt;link rel=&quot;stylesheet&quot; href=&quot;https://cdn.jsdelivr.net/gh/python-visualization/folium/folium/templates/leaflet.awesome.rotate.min.css&quot;/&gt;\n",
       "    \n",
       "            &lt;meta name=&quot;viewport&quot; content=&quot;width=device-width,\n",
       "                initial-scale=1.0, maximum-scale=1.0, user-scalable=no&quot; /&gt;\n",
       "            &lt;style&gt;\n",
       "                #map_300f4b25ccbe909795803d4d1e71c75e {\n",
       "                    position: relative;\n",
       "                    width: 100.0%;\n",
       "                    height: 100.0%;\n",
       "                    left: 0.0%;\n",
       "                    top: 0.0%;\n",
       "                }\n",
       "                .leaflet-container { font-size: 1rem; }\n",
       "            &lt;/style&gt;\n",
       "        \n",
       "&lt;/head&gt;\n",
       "&lt;body&gt;\n",
       "    \n",
       "    \n",
       "            &lt;div class=&quot;folium-map&quot; id=&quot;map_300f4b25ccbe909795803d4d1e71c75e&quot; &gt;&lt;/div&gt;\n",
       "        \n",
       "&lt;/body&gt;\n",
       "&lt;script&gt;\n",
       "    \n",
       "    \n",
       "            var map_300f4b25ccbe909795803d4d1e71c75e = L.map(\n",
       "                &quot;map_300f4b25ccbe909795803d4d1e71c75e&quot;,\n",
       "                {\n",
       "                    center: [35.7543043, -5.793965],\n",
       "                    crs: L.CRS.EPSG3857,\n",
       "                    zoom: 13,\n",
       "                    zoomControl: true,\n",
       "                    preferCanvas: false,\n",
       "                }\n",
       "            );\n",
       "\n",
       "            \n",
       "\n",
       "        \n",
       "    \n",
       "            var tile_layer_12e568578a3fbeea644815dad4351541 = L.tileLayer(\n",
       "                &quot;https://tile.openstreetmap.org/{z}/{x}/{y}.png&quot;,\n",
       "                {&quot;attribution&quot;: &quot;\\u0026copy; \\u003ca href=\\&quot;https://www.openstreetmap.org/copyright\\&quot;\\u003eOpenStreetMap\\u003c/a\\u003e contributors&quot;, &quot;detectRetina&quot;: false, &quot;maxNativeZoom&quot;: 19, &quot;maxZoom&quot;: 19, &quot;minZoom&quot;: 0, &quot;noWrap&quot;: false, &quot;opacity&quot;: 1, &quot;subdomains&quot;: &quot;abc&quot;, &quot;tms&quot;: false}\n",
       "            );\n",
       "        \n",
       "    \n",
       "            tile_layer_12e568578a3fbeea644815dad4351541.addTo(map_300f4b25ccbe909795803d4d1e71c75e);\n",
       "        \n",
       "    \n",
       "            var marker_ad812554af707565f0d829c9aa1c6364 = L.marker(\n",
       "                [35.7543043, -5.793965],\n",
       "                {}\n",
       "            ).addTo(map_300f4b25ccbe909795803d4d1e71c75e);\n",
       "        \n",
       "    \n",
       "        var popup_520c55118fe6c127a4373944a6a84a3f = L.popup({&quot;maxWidth&quot;: &quot;100%&quot;});\n",
       "\n",
       "        \n",
       "            \n",
       "                var html_c22e4933267a7001f6d4889f623095f8 = $(`&lt;div id=&quot;html_c22e4933267a7001f6d4889f623095f8&quot; style=&quot;width: 100.0%; height: 100.0%;&quot;&gt;Employee 1&lt;/div&gt;`)[0];\n",
       "                popup_520c55118fe6c127a4373944a6a84a3f.setContent(html_c22e4933267a7001f6d4889f623095f8);\n",
       "            \n",
       "        \n",
       "\n",
       "        marker_ad812554af707565f0d829c9aa1c6364.bindPopup(popup_520c55118fe6c127a4373944a6a84a3f)\n",
       "        ;\n",
       "\n",
       "        \n",
       "    \n",
       "    \n",
       "            var marker_d03ef225dc0638d8f5c7929793b6c53f = L.marker(\n",
       "                [35.74922, -5.8326409],\n",
       "                {}\n",
       "            ).addTo(map_300f4b25ccbe909795803d4d1e71c75e);\n",
       "        \n",
       "    \n",
       "        var popup_44e5a1695d0f6d0cc6eda2a2da860308 = L.popup({&quot;maxWidth&quot;: &quot;100%&quot;});\n",
       "\n",
       "        \n",
       "            \n",
       "                var html_dcdb4226518907130d3cbca645874496 = $(`&lt;div id=&quot;html_dcdb4226518907130d3cbca645874496&quot; style=&quot;width: 100.0%; height: 100.0%;&quot;&gt;Employee 2&lt;/div&gt;`)[0];\n",
       "                popup_44e5a1695d0f6d0cc6eda2a2da860308.setContent(html_dcdb4226518907130d3cbca645874496);\n",
       "            \n",
       "        \n",
       "\n",
       "        marker_d03ef225dc0638d8f5c7929793b6c53f.bindPopup(popup_44e5a1695d0f6d0cc6eda2a2da860308)\n",
       "        ;\n",
       "\n",
       "        \n",
       "    \n",
       "&lt;/script&gt;\n",
       "&lt;/html&gt;\" style=\"position:absolute;width:100%;height:100%;left:0;top:0;border:none !important;\" allowfullscreen webkitallowfullscreen mozallowfullscreen></iframe></div></div>"
      ],
      "text/plain": [
       "<folium.folium.Map at 0x74977a18b320>"
      ]
     },
     "execution_count": 6,
     "metadata": {},
     "output_type": "execute_result"
    }
   ],
   "source": [
    "import folium\n",
    "\n",
    "employee_1 = employee_nodes[0]\n",
    "employee_2 = employee_nodes[1]\n",
    "\n",
    "my_map = folium.Map(location=[employee_1.latitude,\n",
    "                    employee_1.longitude], zoom_start=13)\n",
    "folium.Marker([employee_1.latitude, employee_1.longitude],\n",
    "              popup='Employee 1').add_to(my_map)\n",
    "folium.Marker([employee_2.latitude, employee_2.longitude],\n",
    "              popup='Employee 2').add_to(my_map)\n",
    "\n",
    "my_map"
   ]
  },
  {
   "cell_type": "code",
   "execution_count": 7,
   "metadata": {},
   "outputs": [
    {
     "data": {
      "text/plain": [
       "200"
      ]
     },
     "execution_count": 7,
     "metadata": {},
     "output_type": "execute_result"
    }
   ],
   "source": [
    "import requests\n",
    "\n",
    "service = 'route'\n",
    "version = 'v1'\n",
    "profile = 'driving'\n",
    "host = 'http://localhost:5000'\n",
    "\n",
    "employee_1_latitude = employee_1.latitude\n",
    "employee_1_longitude = employee_1.longitude\n",
    "employee_2_latitude = employee_2.latitude\n",
    "employee_2_longitude = employee_2.longitude\n",
    "\n",
    "coordinates = f'{employee_1_longitude},{employee_1_latitude};{\n",
    "    employee_2_longitude},{employee_2_latitude}'\n",
    "url = f\"{host}/{service}/{version}/{profile}/{\n",
    "    coordinates}?overview=full&steps=true&geometries=geojson\"\n",
    "\n",
    "response = requests.get(url)\n",
    "response.status_code"
   ]
  },
  {
   "cell_type": "code",
   "execution_count": 8,
   "metadata": {},
   "outputs": [
    {
     "data": {
      "text/plain": [
       "dict_keys(['code', 'routes', 'waypoints'])"
      ]
     },
     "execution_count": 8,
     "metadata": {},
     "output_type": "execute_result"
    }
   ],
   "source": [
    "data = response.json()\n",
    "data.keys()"
   ]
  },
  {
   "cell_type": "markdown",
   "metadata": {},
   "source": [
    "There is one route that take us from employee 1 to employee 2"
   ]
  },
  {
   "cell_type": "code",
   "execution_count": 9,
   "metadata": {},
   "outputs": [
    {
     "data": {
      "text/plain": [
       "1"
      ]
     },
     "execution_count": 9,
     "metadata": {},
     "output_type": "execute_result"
    }
   ],
   "source": [
    "routes = data['routes']\n",
    "len(routes)"
   ]
  },
  {
   "cell_type": "code",
   "execution_count": 10,
   "metadata": {},
   "outputs": [
    {
     "data": {
      "text/plain": [
       "dict_keys(['geometry', 'legs', 'weight_name', 'weight', 'duration', 'distance'])"
      ]
     },
     "execution_count": 10,
     "metadata": {},
     "output_type": "execute_result"
    }
   ],
   "source": [
    "route = routes[0]\n",
    "route.keys()"
   ]
  },
  {
   "cell_type": "markdown",
   "metadata": {},
   "source": [
    "We can extract the coordinates of the route, its duration in seconds and distance in meters."
   ]
  },
  {
   "cell_type": "code",
   "execution_count": 11,
   "metadata": {},
   "outputs": [],
   "source": [
    "route_coordinates = route['geometry'][\"coordinates\"]\n",
    "route_distance = route[\"distance\"]  # unit: meters\n",
    "route_duration = route[\"duration\"]  # unit: seconds"
   ]
  },
  {
   "cell_type": "markdown",
   "metadata": {},
   "source": [
    "Each point in the routes coordinates list has this format [longitude, latitude], We will convert it to [latitude, longitude]"
   ]
  },
  {
   "cell_type": "code",
   "execution_count": 12,
   "metadata": {},
   "outputs": [],
   "source": [
    "route_coordinates = [[point[1], point[0]] for point in route_coordinates]"
   ]
  },
  {
   "cell_type": "code",
   "execution_count": null,
   "metadata": {},
   "outputs": [
    {
     "data": {
      "text/html": [
       "<div style=\"width:100%;\"><div style=\"position:relative;width:100%;height:0;padding-bottom:60%;\"><span style=\"color:#565656\">Make this Notebook Trusted to load map: File -> Trust Notebook</span><iframe srcdoc=\"&lt;!DOCTYPE html&gt;\n",
       "&lt;html&gt;\n",
       "&lt;head&gt;\n",
       "    \n",
       "    &lt;meta http-equiv=&quot;content-type&quot; content=&quot;text/html; charset=UTF-8&quot; /&gt;\n",
       "    \n",
       "        &lt;script&gt;\n",
       "            L_NO_TOUCH = false;\n",
       "            L_DISABLE_3D = false;\n",
       "        &lt;/script&gt;\n",
       "    \n",
       "    &lt;style&gt;html, body {width: 100%;height: 100%;margin: 0;padding: 0;}&lt;/style&gt;\n",
       "    &lt;style&gt;#map {position:absolute;top:0;bottom:0;right:0;left:0;}&lt;/style&gt;\n",
       "    &lt;script src=&quot;https://cdn.jsdelivr.net/npm/leaflet@1.9.3/dist/leaflet.js&quot;&gt;&lt;/script&gt;\n",
       "    &lt;script src=&quot;https://code.jquery.com/jquery-3.7.1.min.js&quot;&gt;&lt;/script&gt;\n",
       "    &lt;script src=&quot;https://cdn.jsdelivr.net/npm/bootstrap@5.2.2/dist/js/bootstrap.bundle.min.js&quot;&gt;&lt;/script&gt;\n",
       "    &lt;script src=&quot;https://cdnjs.cloudflare.com/ajax/libs/Leaflet.awesome-markers/2.0.2/leaflet.awesome-markers.js&quot;&gt;&lt;/script&gt;\n",
       "    &lt;link rel=&quot;stylesheet&quot; href=&quot;https://cdn.jsdelivr.net/npm/leaflet@1.9.3/dist/leaflet.css&quot;/&gt;\n",
       "    &lt;link rel=&quot;stylesheet&quot; href=&quot;https://cdn.jsdelivr.net/npm/bootstrap@5.2.2/dist/css/bootstrap.min.css&quot;/&gt;\n",
       "    &lt;link rel=&quot;stylesheet&quot; href=&quot;https://netdna.bootstrapcdn.com/bootstrap/3.0.0/css/bootstrap-glyphicons.css&quot;/&gt;\n",
       "    &lt;link rel=&quot;stylesheet&quot; href=&quot;https://cdn.jsdelivr.net/npm/@fortawesome/fontawesome-free@6.2.0/css/all.min.css&quot;/&gt;\n",
       "    &lt;link rel=&quot;stylesheet&quot; href=&quot;https://cdnjs.cloudflare.com/ajax/libs/Leaflet.awesome-markers/2.0.2/leaflet.awesome-markers.css&quot;/&gt;\n",
       "    &lt;link rel=&quot;stylesheet&quot; href=&quot;https://cdn.jsdelivr.net/gh/python-visualization/folium/folium/templates/leaflet.awesome.rotate.min.css&quot;/&gt;\n",
       "    \n",
       "            &lt;meta name=&quot;viewport&quot; content=&quot;width=device-width,\n",
       "                initial-scale=1.0, maximum-scale=1.0, user-scalable=no&quot; /&gt;\n",
       "            &lt;style&gt;\n",
       "                #map_300f4b25ccbe909795803d4d1e71c75e {\n",
       "                    position: relative;\n",
       "                    width: 100.0%;\n",
       "                    height: 100.0%;\n",
       "                    left: 0.0%;\n",
       "                    top: 0.0%;\n",
       "                }\n",
       "                .leaflet-container { font-size: 1rem; }\n",
       "            &lt;/style&gt;\n",
       "        \n",
       "&lt;/head&gt;\n",
       "&lt;body&gt;\n",
       "    \n",
       "    \n",
       "            &lt;div class=&quot;folium-map&quot; id=&quot;map_300f4b25ccbe909795803d4d1e71c75e&quot; &gt;&lt;/div&gt;\n",
       "        \n",
       "&lt;/body&gt;\n",
       "&lt;script&gt;\n",
       "    \n",
       "    \n",
       "            var map_300f4b25ccbe909795803d4d1e71c75e = L.map(\n",
       "                &quot;map_300f4b25ccbe909795803d4d1e71c75e&quot;,\n",
       "                {\n",
       "                    center: [35.7543043, -5.793965],\n",
       "                    crs: L.CRS.EPSG3857,\n",
       "                    zoom: 13,\n",
       "                    zoomControl: true,\n",
       "                    preferCanvas: false,\n",
       "                }\n",
       "            );\n",
       "\n",
       "            \n",
       "\n",
       "        \n",
       "    \n",
       "            var tile_layer_12e568578a3fbeea644815dad4351541 = L.tileLayer(\n",
       "                &quot;https://tile.openstreetmap.org/{z}/{x}/{y}.png&quot;,\n",
       "                {&quot;attribution&quot;: &quot;\\u0026copy; \\u003ca href=\\&quot;https://www.openstreetmap.org/copyright\\&quot;\\u003eOpenStreetMap\\u003c/a\\u003e contributors&quot;, &quot;detectRetina&quot;: false, &quot;maxNativeZoom&quot;: 19, &quot;maxZoom&quot;: 19, &quot;minZoom&quot;: 0, &quot;noWrap&quot;: false, &quot;opacity&quot;: 1, &quot;subdomains&quot;: &quot;abc&quot;, &quot;tms&quot;: false}\n",
       "            );\n",
       "        \n",
       "    \n",
       "            tile_layer_12e568578a3fbeea644815dad4351541.addTo(map_300f4b25ccbe909795803d4d1e71c75e);\n",
       "        \n",
       "    \n",
       "            var marker_ad812554af707565f0d829c9aa1c6364 = L.marker(\n",
       "                [35.7543043, -5.793965],\n",
       "                {}\n",
       "            ).addTo(map_300f4b25ccbe909795803d4d1e71c75e);\n",
       "        \n",
       "    \n",
       "        var popup_520c55118fe6c127a4373944a6a84a3f = L.popup({&quot;maxWidth&quot;: &quot;100%&quot;});\n",
       "\n",
       "        \n",
       "            \n",
       "                var html_c22e4933267a7001f6d4889f623095f8 = $(`&lt;div id=&quot;html_c22e4933267a7001f6d4889f623095f8&quot; style=&quot;width: 100.0%; height: 100.0%;&quot;&gt;Employee 1&lt;/div&gt;`)[0];\n",
       "                popup_520c55118fe6c127a4373944a6a84a3f.setContent(html_c22e4933267a7001f6d4889f623095f8);\n",
       "            \n",
       "        \n",
       "\n",
       "        marker_ad812554af707565f0d829c9aa1c6364.bindPopup(popup_520c55118fe6c127a4373944a6a84a3f)\n",
       "        ;\n",
       "\n",
       "        \n",
       "    \n",
       "    \n",
       "            var marker_d03ef225dc0638d8f5c7929793b6c53f = L.marker(\n",
       "                [35.74922, -5.8326409],\n",
       "                {}\n",
       "            ).addTo(map_300f4b25ccbe909795803d4d1e71c75e);\n",
       "        \n",
       "    \n",
       "        var popup_44e5a1695d0f6d0cc6eda2a2da860308 = L.popup({&quot;maxWidth&quot;: &quot;100%&quot;});\n",
       "\n",
       "        \n",
       "            \n",
       "                var html_dcdb4226518907130d3cbca645874496 = $(`&lt;div id=&quot;html_dcdb4226518907130d3cbca645874496&quot; style=&quot;width: 100.0%; height: 100.0%;&quot;&gt;Employee 2&lt;/div&gt;`)[0];\n",
       "                popup_44e5a1695d0f6d0cc6eda2a2da860308.setContent(html_dcdb4226518907130d3cbca645874496);\n",
       "            \n",
       "        \n",
       "\n",
       "        marker_d03ef225dc0638d8f5c7929793b6c53f.bindPopup(popup_44e5a1695d0f6d0cc6eda2a2da860308)\n",
       "        ;\n",
       "\n",
       "        \n",
       "    \n",
       "    \n",
       "            tile_layer_12e568578a3fbeea644815dad4351541.addTo(map_300f4b25ccbe909795803d4d1e71c75e);\n",
       "        \n",
       "    \n",
       "            var poly_line_6921f8bfae4987dd8764d07c2bfe57a2 = L.polyline(\n",
       "                [[35.754304, -5.793965], [35.754477, -5.794252], [35.75466, -5.794556], [35.754323, -5.794851], [35.754092, -5.795036], [35.754466, -5.795366], [35.754798, -5.795662], [35.75487, -5.795733], [35.754399, -5.796588], [35.753987, -5.797343], [35.753805, -5.797686], [35.753368, -5.79849], [35.753098, -5.798825], [35.752864, -5.799143], [35.752577, -5.799478], [35.752339, -5.799774], [35.752252, -5.799885], [35.752269, -5.79993], [35.752278, -5.799978], [35.752279, -5.800027], [35.752272, -5.800074], [35.752259, -5.800119], [35.752238, -5.80016], [35.752191, -5.800215], [35.752225, -5.800279], [35.752249, -5.80037], [35.752271, -5.800486], [35.752281, -5.8006], [35.752267, -5.800757], [35.752217, -5.800908], [35.752153, -5.801047], [35.752088, -5.801209], [35.752021, -5.801368], [35.751929, -5.801571], [35.75186, -5.801787], [35.751812, -5.801972], [35.751774, -5.802172], [35.751755, -5.802365], [35.751749, -5.802583], [35.751796, -5.802948], [35.75196, -5.803757], [35.752118, -5.804377], [35.752163, -5.804557], [35.752241, -5.804896], [35.752305, -5.80516], [35.752368, -5.805401], [35.752383, -5.805451], [35.752428, -5.805611], [35.75247, -5.805802], [35.752625, -5.806339], [35.752655, -5.806447], [35.752744, -5.806781], [35.752941, -5.807457], [35.752994, -5.80766], [35.753232, -5.808482], [35.75329, -5.808655], [35.753396, -5.809055], [35.753542, -5.809519], [35.753584, -5.809654], [35.753612, -5.809733], [35.753647, -5.809828], [35.753724, -5.810018], [35.753807, -5.810168], [35.753835, -5.810174], [35.753872, -5.810187], [35.753911, -5.810213], [35.753942, -5.810247], [35.753986, -5.810303], [35.754002, -5.810338], [35.754017, -5.810378], [35.754029, -5.810435], [35.754035, -5.810471], [35.754031, -5.810512], [35.754014, -5.810547], [35.754069, -5.810743], [35.754097, -5.810944], [35.754094, -5.811093], [35.754079, -5.811289], [35.754054, -5.811407], [35.754018, -5.811729], [35.754014, -5.812166], [35.754015, -5.812269], [35.754017, -5.812465], [35.754026, -5.812745], [35.754036, -5.812981], [35.754043, -5.813294], [35.754053, -5.813631], [35.754058, -5.814011], [35.754064, -5.814651], [35.754069, -5.815205], [35.754069, -5.815434], [35.754069, -5.815749], [35.75406, -5.816856], [35.754053, -5.817433], [35.754044, -5.817528], [35.754013, -5.817863], [35.753936, -5.818545], [35.753869, -5.818967], [35.753841, -5.819128], [35.753789, -5.819372], [35.753747, -5.819567], [35.753654, -5.81992], [35.753627, -5.820004], [35.753615, -5.820039], [35.753642, -5.820037], [35.753664, -5.820044], [35.753684, -5.820059], [35.7537, -5.820079], [35.753714, -5.820115], [35.753716, -5.820153], [35.753707, -5.820191], [35.753858, -5.820249], [35.75393, -5.82027], [35.754042, -5.820304], [35.754421, -5.820419], [35.754753, -5.820498], [35.755089, -5.820577], [35.755302, -5.820644], [35.755793, -5.820779], [35.755902, -5.820804], [35.756018, -5.820834], [35.756224, -5.820886], [35.756465, -5.820953], [35.756679, -5.821023], [35.757058, -5.821185], [35.757114, -5.821383], [35.757127, -5.821429], [35.757153, -5.821461], [35.757165, -5.82149], [35.757264, -5.821797], [35.757436, -5.822407], [35.757495, -5.822603], [35.757644, -5.823096], [35.757718, -5.823332], [35.757726, -5.823368], [35.757729, -5.823408], [35.757754, -5.823595], [35.757385, -5.823998], [35.757204, -5.824189], [35.756977, -5.824432], [35.756624, -5.82479], [35.756531, -5.824884], [35.756229, -5.825189], [35.756151, -5.825274], [35.756072, -5.825362], [35.756002, -5.82544], [35.755948, -5.825513], [35.755883, -5.825604], [35.755828, -5.825702], [35.755773, -5.825808], [35.755607, -5.826105], [35.755499, -5.826301], [35.75545, -5.826394], [35.755379, -5.826523], [35.755337, -5.826592], [35.755286, -5.826661], [35.755202, -5.826756], [35.75512, -5.826841], [35.754965, -5.826984], [35.754906, -5.82705], [35.754657, -5.82729], [35.754461, -5.827475], [35.754347, -5.827573], [35.754172, -5.827715], [35.754056, -5.8278], [35.753986, -5.827869], [35.753905, -5.827993], [35.753849, -5.828104], [35.753802, -5.828202], [35.753727, -5.828201], [35.753698, -5.8282], [35.75364, -5.828208], [35.753582, -5.82822], [35.753443, -5.828282], [35.753267, -5.828368], [35.752892, -5.828534], [35.752684, -5.828623], [35.752417, -5.828743], [35.752216, -5.828837], [35.75201, -5.82892], [35.751754, -5.829034], [35.751669, -5.829072], [35.751592, -5.829096], [35.751564, -5.829105], [35.751511, -5.829114], [35.751466, -5.829123], [35.751195, -5.829157], [35.751063, -5.829172], [35.751033, -5.829173], [35.750938, -5.829174], [35.750722, -5.829195], [35.750648, -5.829214], [35.750558, -5.829237], [35.750552, -5.829246], [35.750534, -5.829264], [35.750513, -5.829274], [35.750491, -5.829277], [35.750469, -5.829272], [35.750452, -5.829262], [35.750438, -5.829247], [35.750427, -5.829228], [35.75042, -5.829207], [35.750307, -5.82919], [35.750145, -5.829167], [35.750006, -5.829132], [35.749951, -5.829123], [35.749882, -5.829102], [35.749766, -5.829063], [35.749633, -5.829008], [35.749553, -5.828981], [35.749499, -5.828966], [35.74944, -5.828963], [35.749367, -5.828958], [35.74936, -5.829315], [35.749361, -5.829406], [35.749361, -5.82956], [35.749362, -5.829708], [35.749357, -5.830032], [35.749346, -5.830367], [35.749304, -5.831139], [35.749268, -5.831456], [35.749236, -5.8319], [35.749228, -5.832257], [35.74922, -5.832641]],\n",
       "                {&quot;bubblingMouseEvents&quot;: true, &quot;color&quot;: &quot;blue&quot;, &quot;dashArray&quot;: null, &quot;dashOffset&quot;: null, &quot;fill&quot;: false, &quot;fillColor&quot;: &quot;blue&quot;, &quot;fillOpacity&quot;: 0.2, &quot;fillRule&quot;: &quot;evenodd&quot;, &quot;lineCap&quot;: &quot;round&quot;, &quot;lineJoin&quot;: &quot;round&quot;, &quot;noClip&quot;: false, &quot;opacity&quot;: 1, &quot;smoothFactor&quot;: 1.0, &quot;stroke&quot;: true, &quot;weight&quot;: 2.5}\n",
       "            ).addTo(map_300f4b25ccbe909795803d4d1e71c75e);\n",
       "        \n",
       "&lt;/script&gt;\n",
       "&lt;/html&gt;\" style=\"position:absolute;width:100%;height:100%;left:0;top:0;border:none !important;\" allowfullscreen webkitallowfullscreen mozallowfullscreen></iframe></div></div>"
      ],
      "text/plain": [
       "<folium.folium.Map at 0x74977a18b320>"
      ]
     },
     "execution_count": 13,
     "metadata": {},
     "output_type": "execute_result"
    }
   ],
   "source": [
    "folium.PolyLine(\n",
    "    route_coordinates,\n",
    "    color=\"blue\",\n",
    "    weight=2.5,\n",
    "    opacity=1\n",
    ").add_to(my_map)\n",
    "my_map"
   ]
  },
  {
   "cell_type": "markdown",
   "metadata": {},
   "source": [
    "## <a id='toc1_3_'></a>[Save routes between all nodes](#toc0_)"
   ]
  },
  {
   "cell_type": "code",
   "execution_count": 14,
   "metadata": {},
   "outputs": [],
   "source": [
    "import psycopg2\n",
    "\n",
    "connection = psycopg2.connect(\n",
    "    dbname='routes',\n",
    "    user='postgres',\n",
    "    password='postgres',\n",
    "    host='localhost'\n",
    ")\n",
    "connection.autocommit = True\n",
    "cursor = connection.cursor()\n",
    "\n",
    "cursor.execute(\"\"\"\n",
    "CREATE TABLE IF NOT EXISTS route_mapping (\n",
    "    source_node_id INTEGER NOT NULL,\n",
    "    destination_node_id INTEGER NOT NULL,\n",
    "    duration FLOAT NOT NULL,\n",
    "    distance FLOAT NOT NULL,\n",
    "    coordinates JSON NOT NULL,\n",
    "    PRIMARY KEY (source_node_id, destination_node_id),\n",
    "    CONSTRAINT fk_source_node FOREIGN KEY (source_node_id) REFERENCES nodes (id),\n",
    "    CONSTRAINT fk_destination_node FOREIGN KEY (destination_node_id) REFERENCES nodes (id)\n",
    ");\n",
    "\"\"\")\n",
    "connection.commit()"
   ]
  },
  {
   "cell_type": "code",
   "execution_count": 15,
   "metadata": {},
   "outputs": [
    {
     "data": {
      "text/plain": [
       "[Node(id=1, latitude=35.7873286, longitude=-5.8165392, type_='bus'),\n",
       " Node(id=2, latitude=35.7661336, longitude=-5.7665911, type_='bus'),\n",
       " Node(id=3, latitude=35.7273919, longitude=-5.8584305, type_='bus'),\n",
       " Node(id=4, latitude=35.7764352, longitude=-5.8044441, type_='bus'),\n",
       " Node(id=5, latitude=35.7220829, longitude=-5.7726176, type_='bus')]"
      ]
     },
     "execution_count": 15,
     "metadata": {},
     "output_type": "execute_result"
    }
   ],
   "source": [
    "nodes[:5]"
   ]
  },
  {
   "cell_type": "code",
   "execution_count": 16,
   "metadata": {},
   "outputs": [
    {
     "data": {
      "text/plain": [
       "146070"
      ]
     },
     "execution_count": 16,
     "metadata": {},
     "output_type": "execute_result"
    }
   ],
   "source": [
    "len(nodes) * (len(nodes) - 1) // 2"
   ]
  },
  {
   "cell_type": "code",
   "execution_count": 17,
   "metadata": {},
   "outputs": [
    {
     "name": "stderr",
     "output_type": "stream",
     "text": [
      "Processing routes: 100%|██████████| 292681/292681 [33:53<00:00, 143.94it/s]"
     ]
    },
    {
     "name": "stdout",
     "output_type": "stream",
     "text": [
      "All routes processed and saved to the database.\n"
     ]
    },
    {
     "name": "stderr",
     "output_type": "stream",
     "text": [
      "\n"
     ]
    }
   ],
   "source": [
    "import json\n",
    "\n",
    "from tqdm import tqdm\n",
    "from itertools import product\n",
    "\n",
    "service = 'route'\n",
    "version = 'v1'\n",
    "profile = 'driving'\n",
    "host = 'http://localhost:5000'\n",
    "\n",
    "for source_node, destination_node in tqdm(\n",
    "    product(nodes, nodes),\n",
    "    desc=\"Processing routes\",\n",
    "    total=len(nodes) * len(nodes)\n",
    "):\n",
    "    source_node_id = source_node.id\n",
    "    destination_node_id = destination_node.id\n",
    "\n",
    "    if source_node_id == destination_node_id:\n",
    "        continue\n",
    "\n",
    "    coordinates = f\"{source_node.longitude},{source_node.latitude};{\n",
    "        destination_node.longitude},{destination_node.latitude}\"\n",
    "    url = f\"{host}/{service}/{version}/{profile}/{\n",
    "        coordinates}?overview=full&steps=true&geometries=geojson\"\n",
    "\n",
    "    response = requests.get(url)\n",
    "    if response.status_code == 200:\n",
    "        data = response.json()\n",
    "        route = data['routes'][0]\n",
    "\n",
    "        # Extract route details\n",
    "        distance = float(route['distance'])\n",
    "        duration = float(route['duration'])\n",
    "        coordinates_json = route['geometry']['coordinates']\n",
    "        coordinates_json = [[point[1], point[0]] for point in coordinates_json]\n",
    "\n",
    "        query = \"\"\"\n",
    "            INSERT INTO route_mapping (source_node_id, destination_node_id, duration, distance, coordinates)\n",
    "            VALUES (%s, %s, %s, %s, %s)\n",
    "            ON CONFLICT (source_node_id, destination_node_id) DO NOTHING;\n",
    "        \"\"\"\n",
    "        params = (source_node_id, destination_node_id, duration,\n",
    "                  distance, json.dumps(coordinates_json))\n",
    "        cursor.execute(query, params)\n",
    "    else:\n",
    "        print(f\"\"\"Failed to fetch route for {\n",
    "              source_node_id} -> {destination_node_id}, status code: {response.status_code}\"\"\")\n",
    "\n",
    "connection.commit()\n",
    "cursor.close()\n",
    "connection.close()\n",
    "\n",
    "print(\"All routes processed and saved to the database.\")"
   ]
  }
 ],
 "metadata": {
  "kernelspec": {
   "display_name": "vehicle_routing_problem",
   "language": "python",
   "name": "python3"
  },
  "language_info": {
   "codemirror_mode": {
    "name": "ipython",
    "version": 3
   },
   "file_extension": ".py",
   "mimetype": "text/x-python",
   "name": "python",
   "nbconvert_exporter": "python",
   "pygments_lexer": "ipython3",
   "version": "3.12.7"
  }
 },
 "nbformat": 4,
 "nbformat_minor": 2
}
